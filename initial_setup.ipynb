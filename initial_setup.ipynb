{
  "cells": [
    {
      "cell_type": "markdown",
      "metadata": {
        "id": "view-in-github",
        "colab_type": "text"
      },
      "source": [
        "<a href=\"https://colab.research.google.com/github/srp10/CS410CourseProject/blob/main/initial_setup.ipynb\" target=\"_parent\"><img src=\"https://colab.research.google.com/assets/colab-badge.svg\" alt=\"Open In Colab\"/></a>"
      ]
    },
    {
      "cell_type": "code",
      "execution_count": 8,
      "metadata": {
        "colab": {
          "base_uri": "https://localhost:8080/"
        },
        "id": "KhGG-49LZH6u",
        "outputId": "5aee4fd5-13de-468a-b0ca-83de3c29d676"
      },
      "outputs": [
        {
          "output_type": "stream",
          "name": "stdout",
          "text": [
            "Mounted at /content/drive\n"
          ]
        }
      ],
      "source": [
        "from google.colab import drive\n",
        "drive.mount('/content/drive')"
      ]
    },
    {
      "cell_type": "code",
      "execution_count": 9,
      "metadata": {
        "colab": {
          "base_uri": "https://localhost:8080/"
        },
        "id": "M3ezQhm-CXRX",
        "outputId": "391a3d44-34b2-4728-d4f4-1e56f120b376"
      },
      "outputs": [
        {
          "output_type": "stream",
          "name": "stdout",
          "text": [
            "/content\n"
          ]
        }
      ],
      "source": [
        "!pwd"
      ]
    },
    {
      "cell_type": "code",
      "execution_count": 10,
      "metadata": {
        "colab": {
          "base_uri": "https://localhost:8080/"
        },
        "id": "h37G00gYCqWR",
        "outputId": "9f0b7dc5-b48a-4a84-bdbf-c3fd40d6abd9"
      },
      "outputs": [
        {
          "output_type": "stream",
          "name": "stdout",
          "text": [
            "fatal: destination path 'Chet' already exists and is not an empty directory.\n"
          ]
        }
      ],
      "source": [
        "!git clone https://github.com/LuChang-CS/Chet"
      ]
    },
    {
      "cell_type": "code",
      "execution_count": 11,
      "metadata": {
        "id": "W-i4V60vDrpR"
      },
      "outputs": [],
      "source": [
        "mkdir -p /content/Chet/data/mimic3/raw/"
      ]
    },
    {
      "cell_type": "code",
      "execution_count": 14,
      "metadata": {
        "id": "6Hh8atfrEOSb"
      },
      "outputs": [],
      "source": [
        "mkdir -p /content/Chet/data/mimic4/raw/"
      ]
    },
    {
      "cell_type": "code",
      "execution_count": 12,
      "metadata": {
        "id": "5il0U52UC3pk"
      },
      "outputs": [],
      "source": [
        "!cp /content/drive/MyDrive/physionet.org/files/mimiciii/1.4/ADMISSIONS.csv /content/drive/MyDrive/physionet.org/files/mimiciii/1.4/DIAGNOSES_ICD.csv /content/Chet/data/mimic3/raw/"
      ]
    },
    {
      "cell_type": "code",
      "execution_count": 15,
      "metadata": {
        "id": "GyUdn6CWEgnn"
      },
      "outputs": [],
      "source": [
        "!cp /content/drive/MyDrive/physionet.org/files/mimiciv/2.2/hosp/admissions.csv /content/drive/MyDrive/physionet.org/files/mimiciv/2.2/hosp/diagnoses_icd.csv /content/drive/MyDrive/physionet.org/files/mimiciv/2.2/hosp/patients.csv /content/drive/MyDrive/physionet.org/files/mimiciv/2.2/hosp/icd10-icd9.csv /content/Chet/data/mimic4/raw/"
      ]
    },
    {
      "cell_type": "code",
      "execution_count": 16,
      "metadata": {
        "colab": {
          "base_uri": "https://localhost:8080/",
          "height": 35
        },
        "id": "CqjfY3nfTybK",
        "outputId": "e8d9a647-9950-4def-d75d-294d5ea21b4e"
      },
      "outputs": [
        {
          "output_type": "execute_result",
          "data": {
            "text/plain": [
              "'/content'"
            ],
            "application/vnd.google.colaboratory.intrinsic+json": {
              "type": "string"
            }
          },
          "metadata": {},
          "execution_count": 16
        }
      ],
      "source": [
        "%pwd"
      ]
    },
    {
      "cell_type": "code",
      "execution_count": 17,
      "metadata": {
        "colab": {
          "base_uri": "https://localhost:8080/"
        },
        "id": "0tdVucXEVAcT",
        "outputId": "e0173deb-e95d-46b3-8f7d-f0e5d3bdd63a"
      },
      "outputs": [
        {
          "output_type": "stream",
          "name": "stdout",
          "text": [
            "/content/Chet\n"
          ]
        }
      ],
      "source": [
        "%cd /content/Chet"
      ]
    },
    {
      "cell_type": "code",
      "execution_count": 18,
      "metadata": {
        "colab": {
          "base_uri": "https://localhost:8080/",
          "height": 35
        },
        "id": "-8Jc6uYgVBzX",
        "outputId": "b8891482-feba-4279-9407-2024cc0fb3a3"
      },
      "outputs": [
        {
          "output_type": "execute_result",
          "data": {
            "text/plain": [
              "'/content/Chet'"
            ],
            "application/vnd.google.colaboratory.intrinsic+json": {
              "type": "string"
            }
          },
          "metadata": {},
          "execution_count": 18
        }
      ],
      "source": [
        "%pwd"
      ]
    },
    {
      "cell_type": "code",
      "execution_count": 19,
      "metadata": {
        "colab": {
          "base_uri": "https://localhost:8080/"
        },
        "id": "rEu0ZDSWd_0Q",
        "outputId": "b878d662-4821-4b73-b911-b3fee78246f9"
      },
      "outputs": [
        {
          "output_type": "stream",
          "name": "stdout",
          "text": [
            "Looking in indexes: https://pypi.org/simple, https://us-python.pkg.dev/colab-wheels/public/simple/\n",
            "Collecting joblib==1.0.1\n",
            "  Downloading joblib-1.0.1-py3-none-any.whl (303 kB)\n",
            "\u001b[2K     \u001b[90m━━━━━━━━━━━━━━━━━━━━━━━━━━━━━━━━━━━━━━\u001b[0m \u001b[32m303.1/303.1 kB\u001b[0m \u001b[31m16.3 MB/s\u001b[0m eta \u001b[36m0:00:00\u001b[0m\n",
            "\u001b[?25hCollecting numpy==1.20.2\n",
            "  Downloading numpy-1.20.2-cp39-cp39-manylinux2010_x86_64.whl (15.4 MB)\n",
            "\u001b[2K     \u001b[90m━━━━━━━━━━━━━━━━━━━━━━━━━━━━━━━━━━━━━━━━\u001b[0m \u001b[32m15.4/15.4 MB\u001b[0m \u001b[31m63.8 MB/s\u001b[0m eta \u001b[36m0:00:00\u001b[0m\n",
            "\u001b[?25hCollecting pandas==1.2.3\n",
            "  Downloading pandas-1.2.3-cp39-cp39-manylinux1_x86_64.whl (9.7 MB)\n",
            "\u001b[2K     \u001b[90m━━━━━━━━━━━━━━━━━━━━━━━━━━━━━━━━━━━━━━━━\u001b[0m \u001b[32m9.7/9.7 MB\u001b[0m \u001b[31m101.5 MB/s\u001b[0m eta \u001b[36m0:00:00\u001b[0m\n",
            "\u001b[?25hCollecting Pillow==8.2.0\n",
            "  Downloading Pillow-8.2.0-cp39-cp39-manylinux1_x86_64.whl (3.0 MB)\n",
            "\u001b[2K     \u001b[90m━━━━━━━━━━━━━━━━━━━━━━━━━━━━━━━━━━━━━━━━\u001b[0m \u001b[32m3.0/3.0 MB\u001b[0m \u001b[31m102.3 MB/s\u001b[0m eta \u001b[36m0:00:00\u001b[0m\n",
            "\u001b[?25hCollecting python-dateutil==2.8.1\n",
            "  Downloading python_dateutil-2.8.1-py2.py3-none-any.whl (227 kB)\n",
            "\u001b[2K     \u001b[90m━━━━━━━━━━━━━━━━━━━━━━━━━━━━━━━━━━━━━━\u001b[0m \u001b[32m227.2/227.2 kB\u001b[0m \u001b[31m30.8 MB/s\u001b[0m eta \u001b[36m0:00:00\u001b[0m\n",
            "\u001b[?25hCollecting pytz==2021.1\n",
            "  Downloading pytz-2021.1-py2.py3-none-any.whl (510 kB)\n",
            "\u001b[2K     \u001b[90m━━━━━━━━━━━━━━━━━━━━━━━━━━━━━━━━━━━━━━\u001b[0m \u001b[32m510.8/510.8 kB\u001b[0m \u001b[31m44.8 MB/s\u001b[0m eta \u001b[36m0:00:00\u001b[0m\n",
            "\u001b[?25hCollecting scikit-learn==0.24.1\n",
            "  Downloading scikit_learn-0.24.1-cp39-cp39-manylinux2010_x86_64.whl (23.8 MB)\n",
            "\u001b[2K     \u001b[90m━━━━━━━━━━━━━━━━━━━━━━━━━━━━━━━━━━━━━━━━\u001b[0m \u001b[32m23.8/23.8 MB\u001b[0m \u001b[31m69.0 MB/s\u001b[0m eta \u001b[36m0:00:00\u001b[0m\n",
            "\u001b[?25hCollecting scipy==1.6.2\n",
            "  Downloading scipy-1.6.2-cp39-cp39-manylinux1_x86_64.whl (27.3 MB)\n",
            "\u001b[2K     \u001b[90m━━━━━━━━━━━━━━━━━━━━━━━━━━━━━━━━━━━━━━━━\u001b[0m \u001b[32m27.3/27.3 MB\u001b[0m \u001b[31m58.6 MB/s\u001b[0m eta \u001b[36m0:00:00\u001b[0m\n",
            "\u001b[?25hCollecting six==1.15.0\n",
            "  Downloading six-1.15.0-py2.py3-none-any.whl (10 kB)\n",
            "Collecting threadpoolctl==2.1.0\n",
            "  Downloading threadpoolctl-2.1.0-py3-none-any.whl (12 kB)\n",
            "\u001b[31mERROR: Could not find a version that satisfies the requirement torch==1.8.1+cu111 (from versions: 1.7.1, 1.8.0, 1.8.1, 1.9.0, 1.9.1, 1.10.0, 1.10.1, 1.10.2, 1.11.0, 1.12.0, 1.12.1, 1.13.0, 1.13.1, 2.0.0)\u001b[0m\u001b[31m\n",
            "\u001b[0m\u001b[31mERROR: No matching distribution found for torch==1.8.1+cu111\u001b[0m\u001b[31m\n",
            "\u001b[0m"
          ]
        }
      ],
      "source": [
        "!pip install -r requirements.txt"
      ]
    },
    {
      "cell_type": "code",
      "execution_count": 22,
      "metadata": {
        "colab": {
          "base_uri": "https://localhost:8080/"
        },
        "id": "ch7dAUptZ4f8",
        "outputId": "f2a2ec81-c021-49fa-bdb1-a4c2572bfa41"
      },
      "outputs": [
        {
          "output_type": "stream",
          "name": "stdout",
          "text": [
            "loading ICD-10 to ICD-9 map ...\n",
            "loading patients anchor year ...\n",
            "parsing the csv file of admission ...\n",
            "\tselecting valid admission ...\n",
            "\t\t431231 in 431231 rows\n",
            "\t\tremaining 221815 rows\n",
            "\t221815 in 221815 rows\n",
            "parsing csv file of diagnosis ...\n",
            "\tmapping ICD-10 to ICD-9 ...\n",
            "\t\t4756326 in 4756326 rows\n",
            "\t4756326 in 4756326 rows\n",
            "calibrating patients by admission ...\n",
            "calibrating admission by patients ...\n",
            "saving parsed data ...\n",
            "patient num: 10000\n",
            "max admission num: 93\n",
            "mean admission num: 3.79\n",
            "max code num in an admission: 39\n",
            "mean code num in an admission: 13.51\n",
            "encoding code ...\n",
            "There are 5985 codes\n",
            "generating code levels ...\n",
            "\t100%\n",
            "There are 8000 train, 1000 valid, 1000 test samples\n",
            "generating code code adjacent matrix ...\n",
            "\t8000 / 8000\n",
            "building train codes features and labels ...\n",
            "\t8000 / 8000\n",
            "building valid codes features and labels ...\n",
            "\t1000 / 1000\n",
            "building test codes features and labels ...\n",
            "\t1000 / 1000\n",
            "generating train neighbors ...\n",
            "\t8000 / 8000\n",
            "generating valid neighbors ...\n",
            "\t1000 / 1000\n",
            "generating test neighbors ...\n",
            "\t1000 / 1000\n",
            "generating train middles ...\n",
            "\t8000 / 8000\n",
            "generating valid middles ...\n",
            "\t1000 / 1000\n",
            "generating test middles ...\n",
            "\t1000 / 1000\n",
            "building train heart failure labels ...\n",
            "building valid heart failure labels ...\n",
            "building test heart failure labels ...\n",
            "saving encoded data ...\n",
            "saving standard data ...\n",
            "\tsaving training data\n",
            "\tsaving valid data\n",
            "\tsaving test data\n"
          ]
        }
      ],
      "source": [
        "!python run_preprocess.py"
      ]
    },
    {
      "cell_type": "code",
      "execution_count": null,
      "metadata": {
        "colab": {
          "base_uri": "https://localhost:8080/"
        },
        "id": "6ynWxwjDcZly",
        "outputId": "cdc010f7-2dfe-4df1-a79c-fde31be5e720"
      },
      "outputs": [
        {
          "output_type": "stream",
          "name": "stdout",
          "text": [
            "loading train data ...\n",
            "loading valid data ...\n",
            "loading test data ...\n",
            "862525\n",
            "Epoch 1 / 20:\n",
            "    Step 250 / 250, time cost: 5m9.3s, loss: 0.2931\n",
            "    Evaluation: loss: 0.2745 --- auc: 0.9236 --- f1_score: 0.6492\n",
            "Epoch 2 / 20:\n",
            "    Step 250 / 250, time cost: 5m2.9s, loss: 0.2310\n",
            "    Evaluation: loss: 0.2332 --- auc: 0.9336 --- f1_score: 0.7642\n",
            "Epoch 3 / 20:\n",
            "    Step 250 / 250, time cost: 5m2.1s, loss: 0.2147\n",
            "    Evaluation: loss: 0.2329 --- auc: 0.9336 --- f1_score: 0.7705\n",
            "Epoch 4 / 20:\n",
            "    Step 250 / 250, time cost: 5m2.3s, loss: 0.2126\n",
            "    Evaluation: loss: 0.2330 --- auc: 0.9335 --- f1_score: 0.7769\n",
            "Epoch 5 / 20:\n",
            "    Step 250 / 250, time cost: 5m1.9s, loss: 0.2107\n",
            "    Evaluation: loss: 0.2329 --- auc: 0.9337 --- f1_score: 0.7722\n",
            "Epoch 6 / 20:\n",
            "    Step 250 / 250, time cost: 5m1.7s, loss: 0.2089\n",
            "    Evaluation: loss: 0.2328 --- auc: 0.9339 --- f1_score: 0.7688\n",
            "Epoch 7 / 20:\n",
            "    Step 250 / 250, time cost: 5m2.3s, loss: 0.2073\n",
            "    Evaluation: loss: 0.2325 --- auc: 0.9338 --- f1_score: 0.7709\n",
            "Epoch 8 / 20:\n",
            "    Step 250 / 250, time cost: 5m2.1s, loss: 0.2054\n",
            "    Evaluation: loss: 0.2325 --- auc: 0.9338 --- f1_score: 0.7654\n",
            "Epoch 9 / 20:\n",
            "    Step 232 / 250, remaining time: 21.7s, loss: 0.2030"
          ]
        }
      ],
      "source": [
        "!python train.py"
      ]
    }
  ],
  "metadata": {
    "accelerator": "GPU",
    "colab": {
      "machine_shape": "hm",
      "provenance": [],
      "include_colab_link": true
    },
    "gpuClass": "premium",
    "kernelspec": {
      "display_name": "Python 3",
      "name": "python3"
    },
    "language_info": {
      "name": "python"
    }
  },
  "nbformat": 4,
  "nbformat_minor": 0
}